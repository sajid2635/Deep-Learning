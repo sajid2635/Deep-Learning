{
 "cells": [
  {
   "cell_type": "code",
   "execution_count": 2,
   "id": "44753a40",
   "metadata": {},
   "outputs": [],
   "source": [
    "import numpy as np \n",
    "import tensorflow as tf \n",
    "import tensorflow_datasets as tfds"
   ]
  },
  {
   "cell_type": "code",
   "execution_count": 7,
   "id": "62854b3f",
   "metadata": {},
   "outputs": [],
   "source": [
    "mnist_dataset, mnist_info = tfds.load(name='mnist', with_info=True, as_supervised=True)"
   ]
  },
  {
   "cell_type": "code",
   "execution_count": 9,
   "id": "cab5709c",
   "metadata": {},
   "outputs": [],
   "source": [
    "mnist_train, mnist_test = mnist_dataset['train'], mnist_dataset['test']"
   ]
  },
  {
   "cell_type": "code",
   "execution_count": 41,
   "id": "4d9b640d",
   "metadata": {},
   "outputs": [],
   "source": [
    "num_validiation_samples = 0.1* mnist_info.splits['train'].num_examples\n",
    "num_validiation_samples = tf.cast(num_validiation_samples, tf.int64)\n",
    "\n",
    "num_test_samples = mnist_info.splits['test'].num_examples\n",
    "num_test_samples = tf.cast(num_test_samples, tf.int64)\n",
    "\n",
    "def scale(image, label):\n",
    "    image = tf.cast(image, tf.float32)\n",
    "    image /= 255. \n",
    "    return image, label\n",
    "\n",
    "\n",
    "scaled_train_and_validiation_data = mnist_train.map(scale)\n",
    "test_data = mnist_test.map(scale)\n",
    "\n",
    "buffer_size = 10000\n",
    "\n",
    "shuffled_train_validiation_data = scaled_train_and_validiation_data.shuffle(buffer_size)\n",
    "\n",
    "validiation_data = shuffled_train_validiation_data.take(num_validiation_samples)\n",
    "train_data = shuffled_train_validiation_data.skip(num_validiation_samples)\n",
    "\n",
    "batch_size = 100 \n",
    "\n",
    "train_data = train_data.batch(batch_size)\n",
    "validiation_data = validiation_data.batch(num_validiation_samples)\n",
    "test_data = test_data.batch(num_test_samples)\n",
    "\n",
    "validiation_inputs, validiation_targets = next(iter(validiation_data))"
   ]
  },
  {
   "cell_type": "code",
   "execution_count": null,
   "id": "3beb7058",
   "metadata": {},
   "outputs": [],
   "source": [
    "# Model "
   ]
  },
  {
   "cell_type": "code",
   "execution_count": null,
   "id": "d2c105dc",
   "metadata": {},
   "outputs": [],
   "source": [
    "input_size = 784 \n",
    "output_size = 10 \n",
    "hidden_layer_size = 50\n",
    "\n",
    "model = tf.keras.Sequential([\n",
    "                            tf.keras.layers.Flatten(input_shape=(28,28,1)),\n",
    "                            tf.keras.layers.Dense(hidden_layer_size,activation='relu'),\n",
    "                            tf.keras.layers.Dense(hidden_layer_size,activation='relu'),\n",
    "                            tf.keras.layers.Dense(output_size,activation='softmax')    \n",
    "                            ])"
   ]
  },
  {
   "cell_type": "code",
   "execution_count": null,
   "id": "3e07a029",
   "metadata": {},
   "outputs": [],
   "source": [
    "model.compile(optimizer='adam', loss='sparse_categorical_crossentropy', metrics=['accuracy'])"
   ]
  },
  {
   "cell_type": "code",
   "execution_count": 46,
   "id": "b5d07e06",
   "metadata": {},
   "outputs": [
    {
     "name": "stdout",
     "output_type": "stream",
     "text": [
      "Epoch 1/5\n",
      "540/540 - 14s - 26ms/step - accuracy: 0.9747 - loss: 0.0844 - val_accuracy: 0.9740 - val_loss: 0.0876\n",
      "Epoch 2/5\n",
      "540/540 - 3s - 6ms/step - accuracy: 0.9780 - loss: 0.0729 - val_accuracy: 0.9767 - val_loss: 0.0809\n",
      "Epoch 3/5\n",
      "540/540 - 3s - 6ms/step - accuracy: 0.9806 - loss: 0.0636 - val_accuracy: 0.9767 - val_loss: 0.0794\n",
      "Epoch 4/5\n",
      "540/540 - 3s - 6ms/step - accuracy: 0.9824 - loss: 0.0561 - val_accuracy: 0.9795 - val_loss: 0.0728\n",
      "Epoch 5/5\n",
      "540/540 - 4s - 7ms/step - accuracy: 0.9843 - loss: 0.0504 - val_accuracy: 0.9827 - val_loss: 0.0626\n"
     ]
    },
    {
     "data": {
      "text/plain": [
       "<keras.src.callbacks.history.History at 0x149c7df7a00>"
      ]
     },
     "execution_count": 46,
     "metadata": {},
     "output_type": "execute_result"
    }
   ],
   "source": [
    "NUM_EPOCHS = 5\n",
    "\n",
    "model.fit(train_data,epochs=NUM_EPOCHS, validation_data=(validiation_inputs, validiation_targets), verbose=2)"
   ]
  },
  {
   "cell_type": "code",
   "execution_count": 48,
   "id": "48d3b917",
   "metadata": {},
   "outputs": [
    {
     "name": "stdout",
     "output_type": "stream",
     "text": [
      "\u001b[1m1/1\u001b[0m \u001b[32m━━━━━━━━━━━━━━━━━━━━\u001b[0m\u001b[37m\u001b[0m \u001b[1m0s\u001b[0m 278ms/step - accuracy: 0.9688 - loss: 0.0998\n"
     ]
    }
   ],
   "source": [
    "# Final test Evalvation\n",
    "\n",
    "test_loss, test_accuracy = model.evaluate(test_data)"
   ]
  },
  {
   "cell_type": "code",
   "execution_count": 50,
   "id": "eaa9c121",
   "metadata": {},
   "outputs": [
    {
     "data": {
      "text/plain": [
       "96.88"
      ]
     },
     "execution_count": 50,
     "metadata": {},
     "output_type": "execute_result"
    }
   ],
   "source": [
    "round(test_accuracy*100,2)"
   ]
  }
 ],
 "metadata": {
  "kernelspec": {
   "display_name": "Python 3 (ipykernel)",
   "language": "python",
   "name": "python3"
  },
  "language_info": {
   "codemirror_mode": {
    "name": "ipython",
    "version": 3
   },
   "file_extension": ".py",
   "mimetype": "text/x-python",
   "name": "python",
   "nbconvert_exporter": "python",
   "pygments_lexer": "ipython3",
   "version": "3.9.13"
  },
  "varInspector": {
   "cols": {
    "lenName": 16,
    "lenType": 16,
    "lenVar": 40
   },
   "kernels_config": {
    "python": {
     "delete_cmd_postfix": "",
     "delete_cmd_prefix": "del ",
     "library": "var_list.py",
     "varRefreshCmd": "print(var_dic_list())"
    },
    "r": {
     "delete_cmd_postfix": ") ",
     "delete_cmd_prefix": "rm(",
     "library": "var_list.r",
     "varRefreshCmd": "cat(var_dic_list()) "
    }
   },
   "types_to_exclude": [
    "module",
    "function",
    "builtin_function_or_method",
    "instance",
    "_Feature"
   ],
   "window_display": false
  }
 },
 "nbformat": 4,
 "nbformat_minor": 5
}
