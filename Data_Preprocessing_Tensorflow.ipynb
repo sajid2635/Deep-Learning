{
 "cells": [
  {
   "cell_type": "code",
   "execution_count": 19,
   "id": "18af80ea",
   "metadata": {},
   "outputs": [],
   "source": [
    "import numpy as np \n",
    "from sklearn import preprocessing"
   ]
  },
  {
   "cell_type": "code",
   "execution_count": 20,
   "id": "0d9c0b67",
   "metadata": {},
   "outputs": [],
   "source": [
    "raw_data_csv = np.loadtxt('Audiobooks_data.csv',delimiter=',')"
   ]
  },
  {
   "cell_type": "code",
   "execution_count": 21,
   "id": "eed7eef3",
   "metadata": {},
   "outputs": [],
   "source": [
    "unscaled_inputs_all = raw_data_csv[:,1:-1]\n",
    "targets_all = raw_data_csv[:,-1]"
   ]
  },
  {
   "cell_type": "code",
   "execution_count": 23,
   "id": "4d036806",
   "metadata": {},
   "outputs": [],
   "source": [
    "num_one_targets = int(np.sum(targets_all))\n",
    "zero_targets_counter = 0 \n",
    "indicies_to_remove = []\n",
    "\n",
    "for i in range(targets_all.shape[0]):\n",
    "    if targets_all[i] == 0:\n",
    "        zero_targets_counter += 1 \n",
    "        if zero_targets_counter > num_one_targets:\n",
    "            indicies_to_remove.append(i)\n",
    "            \n",
    "unscaled_inputs_equal_prior = np.delete(unscaled_inputs_all, indicies_to_remove, axis=0)\n",
    "targets_equal_prior = np.delete(targets_all, indicies_to_remove,axis=0)\n",
    "\n"
   ]
  },
  {
   "cell_type": "code",
   "execution_count": 24,
   "id": "65917f50",
   "metadata": {},
   "outputs": [],
   "source": [
    "scaled_inputs = preprocessing.scale(unscaled_inputs_equal_prior)"
   ]
  },
  {
   "cell_type": "code",
   "execution_count": 25,
   "id": "effe20d4",
   "metadata": {},
   "outputs": [],
   "source": [
    "shuffled_indicies = np.arange(scaled_inputs.shape[0])\n",
    "np.random.shuffle(shuffled_indicies)"
   ]
  },
  {
   "cell_type": "code",
   "execution_count": 26,
   "id": "50d59044",
   "metadata": {},
   "outputs": [],
   "source": [
    "shuffled_inputs = scaled_inputs[shuffled_indicies]\n",
    "shuffled_targets = targets_equal_prior[shuffled_indicies]"
   ]
  },
  {
   "cell_type": "code",
   "execution_count": 27,
   "id": "7cf033cd",
   "metadata": {},
   "outputs": [],
   "source": [
    "samples_count = shuffled_inputs.shape[0]\n",
    "\n",
    "\n",
    "train_samples_count = int(0.8*samples_count)\n",
    "validiation_samples_count = int(0.1*samples_count)\n",
    "test_samples_count = samples_count - train_samples_count - validiation_samples_count\n",
    "\n"
   ]
  },
  {
   "cell_type": "code",
   "execution_count": 32,
   "id": "5a2e08c5",
   "metadata": {},
   "outputs": [],
   "source": [
    "train_inputs = shuffled_inputs[:train_samples_count]\n",
    "train_targets = shuffled_targets[:train_samples_count]\n",
    "\n",
    "validiation_inputs = shuffled_inputs[train_samples_count:train_samples_count+validiation_samples_count]\n",
    "validiation_targets = shuffled_targets[train_samples_count:train_samples_count+validiation_samples_count]\n",
    "\n",
    "test_inputs = shuffled_inputs[train_samples_count+validiation_samples_count:]\n",
    "test_targets = shuffled_targets[train_samples_count+validiation_samples_count:]\n"
   ]
  },
  {
   "cell_type": "code",
   "execution_count": 36,
   "id": "301c297a",
   "metadata": {},
   "outputs": [],
   "source": [
    "np.savez('Audiobooks_data_train', inputs=train_inputs, targets=train_targets)\n",
    "np.savez('Audiobooks_data_validiation', inputs=validiation_inputs,targets=validiation_targets)\n",
    "np.savez('Audiobooks_data_test', inputs=test_inputs, targets=test_targets)"
   ]
  },
  {
   "cell_type": "code",
   "execution_count": null,
   "id": "7e8c2a79",
   "metadata": {},
   "outputs": [],
   "source": []
  },
  {
   "cell_type": "code",
   "execution_count": null,
   "id": "ddc5f488",
   "metadata": {},
   "outputs": [],
   "source": []
  }
 ],
 "metadata": {
  "kernelspec": {
   "display_name": "Python 3 (ipykernel)",
   "language": "python",
   "name": "python3"
  },
  "language_info": {
   "codemirror_mode": {
    "name": "ipython",
    "version": 3
   },
   "file_extension": ".py",
   "mimetype": "text/x-python",
   "name": "python",
   "nbconvert_exporter": "python",
   "pygments_lexer": "ipython3",
   "version": "3.9.13"
  },
  "varInspector": {
   "cols": {
    "lenName": 16,
    "lenType": 16,
    "lenVar": 40
   },
   "kernels_config": {
    "python": {
     "delete_cmd_postfix": "",
     "delete_cmd_prefix": "del ",
     "library": "var_list.py",
     "varRefreshCmd": "print(var_dic_list())"
    },
    "r": {
     "delete_cmd_postfix": ") ",
     "delete_cmd_prefix": "rm(",
     "library": "var_list.r",
     "varRefreshCmd": "cat(var_dic_list()) "
    }
   },
   "types_to_exclude": [
    "module",
    "function",
    "builtin_function_or_method",
    "instance",
    "_Feature"
   ],
   "window_display": false
  }
 },
 "nbformat": 4,
 "nbformat_minor": 5
}
